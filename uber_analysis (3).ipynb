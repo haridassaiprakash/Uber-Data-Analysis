{
  "nbformat": 4,
  "nbformat_minor": 0,
  "metadata": {
    "colab": {
      "name": "uber_analysis.ipynb",
      "provenance": [],
      "collapsed_sections": []
    },
    "kernelspec": {
      "display_name": "Python 3",
      "language": "python",
      "name": "python3"
    },
    "language_info": {
      "codemirror_mode": {
        "name": "ipython",
        "version": 3
      },
      "file_extension": ".py",
      "mimetype": "text/x-python",
      "name": "python",
      "nbconvert_exporter": "python",
      "pygments_lexer": "ipython3",
      "version": "3.8.5"
    }
  },
  "cells": [
    {
      "cell_type": "markdown",
      "metadata": {
        "id": "2U4RjuoQ1u_z"
      },
      "source": [
        "# UBER ANALYSIS\n",
        "\n"
      ]
    },
    {
      "cell_type": "markdown",
      "metadata": {
        "id": "-qw3I8eG1u_3"
      },
      "source": [
        "### CONTENT\n",
        ". Georgraphy : USA, Sri lanka and pakistan\n",
        ". Time period : jan-dec 2016\n",
        ". Unit of analysis : Drives\n",
        ". Total Drives :1,155\n",
        ". Total miles : 12,204\n",
        "\n",
        "The dataset contains start date, end date, start location, end location, miles driven, and purpose of drive( business, personal, meals, meetings)"
      ]
    },
    {
      "cell_type": "markdown",
      "metadata": {
        "id": "e-EWfkNH1u_4"
      },
      "source": [
        ""
      ]
    },
    {
      "cell_type": "code",
      "metadata": {
        "id": "qtluACkr1u_4"
      },
      "source": [
        "# Analysis and Mathematical  Libraries\n",
        "import numpy as np\n",
        "\n",
        "import pandas as pd\n",
        "\n",
        "# Visualizations Libraries\n",
        "\n",
        "import matplotlib.pyplot as plt\n",
        "%matplotlib inline\n",
        "\n",
        "import seaborn as sns\n",
        "\n",
        "# DateTime Libraries\n",
        "import time, datetime\n",
        "\n",
        "# Escape Warnings\n",
        "\n",
        "import warnings\n",
        "warnings.filterwarnings('ignore')"
      ],
      "execution_count": null,
      "outputs": []
    },
    {
      "cell_type": "code",
      "metadata": {
        "id": "WjGKY2yb1u_6"
      },
      "source": [
        "df = pd.read_csv(\"/content/My Uber Drives - 2016.csv\",encoding='latin1')"
      ],
      "execution_count": null,
      "outputs": []
    },
    {
      "cell_type": "code",
      "metadata": {
        "id": "LaJsaxBw1u_6",
        "outputId": "139f0628-6c30-427f-b124-7a8744214885"
      },
      "source": [
        "df.head()"
      ],
      "execution_count": null,
      "outputs": [
        {
          "data": {
            "text/html": [
              "<div>\n",
              "<style scoped>\n",
              "    .dataframe tbody tr th:only-of-type {\n",
              "        vertical-align: middle;\n",
              "    }\n",
              "\n",
              "    .dataframe tbody tr th {\n",
              "        vertical-align: top;\n",
              "    }\n",
              "\n",
              "    .dataframe thead th {\n",
              "        text-align: right;\n",
              "    }\n",
              "</style>\n",
              "<table border=\"1\" class=\"dataframe\">\n",
              "  <thead>\n",
              "    <tr style=\"text-align: right;\">\n",
              "      <th></th>\n",
              "      <th>START_DATE*</th>\n",
              "      <th>END_DATE*</th>\n",
              "      <th>CATEGORY*</th>\n",
              "      <th>START*</th>\n",
              "      <th>STOP*</th>\n",
              "      <th>MILES*</th>\n",
              "      <th>PURPOSE*</th>\n",
              "    </tr>\n",
              "  </thead>\n",
              "  <tbody>\n",
              "    <tr>\n",
              "      <th>0</th>\n",
              "      <td>1/1/2016 21:11</td>\n",
              "      <td>1/1/2016 21:17</td>\n",
              "      <td>Business</td>\n",
              "      <td>Fort Pierce</td>\n",
              "      <td>Fort Pierce</td>\n",
              "      <td>5.1</td>\n",
              "      <td>Meal/Entertain</td>\n",
              "    </tr>\n",
              "    <tr>\n",
              "      <th>1</th>\n",
              "      <td>1/2/2016 1:25</td>\n",
              "      <td>1/2/2016 1:37</td>\n",
              "      <td>Business</td>\n",
              "      <td>Fort Pierce</td>\n",
              "      <td>Fort Pierce</td>\n",
              "      <td>5.0</td>\n",
              "      <td>NaN</td>\n",
              "    </tr>\n",
              "    <tr>\n",
              "      <th>2</th>\n",
              "      <td>1/2/2016 20:25</td>\n",
              "      <td>1/2/2016 20:38</td>\n",
              "      <td>Business</td>\n",
              "      <td>Fort Pierce</td>\n",
              "      <td>Fort Pierce</td>\n",
              "      <td>4.8</td>\n",
              "      <td>Errand/Supplies</td>\n",
              "    </tr>\n",
              "    <tr>\n",
              "      <th>3</th>\n",
              "      <td>1/5/2016 17:31</td>\n",
              "      <td>1/5/2016 17:45</td>\n",
              "      <td>Business</td>\n",
              "      <td>Fort Pierce</td>\n",
              "      <td>Fort Pierce</td>\n",
              "      <td>4.7</td>\n",
              "      <td>Meeting</td>\n",
              "    </tr>\n",
              "    <tr>\n",
              "      <th>4</th>\n",
              "      <td>1/6/2016 14:42</td>\n",
              "      <td>1/6/2016 15:49</td>\n",
              "      <td>Business</td>\n",
              "      <td>Fort Pierce</td>\n",
              "      <td>West Palm Beach</td>\n",
              "      <td>63.7</td>\n",
              "      <td>Customer Visit</td>\n",
              "    </tr>\n",
              "  </tbody>\n",
              "</table>\n",
              "</div>"
            ],
            "text/plain": [
              "      START_DATE*       END_DATE* CATEGORY*       START*            STOP*  \\\n",
              "0  1/1/2016 21:11  1/1/2016 21:17  Business  Fort Pierce      Fort Pierce   \n",
              "1   1/2/2016 1:25   1/2/2016 1:37  Business  Fort Pierce      Fort Pierce   \n",
              "2  1/2/2016 20:25  1/2/2016 20:38  Business  Fort Pierce      Fort Pierce   \n",
              "3  1/5/2016 17:31  1/5/2016 17:45  Business  Fort Pierce      Fort Pierce   \n",
              "4  1/6/2016 14:42  1/6/2016 15:49  Business  Fort Pierce  West Palm Beach   \n",
              "\n",
              "   MILES*         PURPOSE*  \n",
              "0     5.1   Meal/Entertain  \n",
              "1     5.0              NaN  \n",
              "2     4.8  Errand/Supplies  \n",
              "3     4.7          Meeting  \n",
              "4    63.7   Customer Visit  "
            ]
          },
          "execution_count": 4,
          "metadata": {},
          "output_type": "execute_result"
        }
      ]
    },
    {
      "cell_type": "code",
      "metadata": {
        "id": "WDs9OeZZ1u_7"
      },
      "source": [
        "df.columns = df.columns.str.replace(\"*\",\"\")"
      ],
      "execution_count": null,
      "outputs": []
    },
    {
      "cell_type": "code",
      "metadata": {
        "id": "bwdBuQ021u_7",
        "outputId": "532287e2-52e3-4b22-98ae-010f6aa73c21"
      },
      "source": [
        "df.tail()"
      ],
      "execution_count": null,
      "outputs": [
        {
          "data": {
            "text/html": [
              "<div>\n",
              "<style scoped>\n",
              "    .dataframe tbody tr th:only-of-type {\n",
              "        vertical-align: middle;\n",
              "    }\n",
              "\n",
              "    .dataframe tbody tr th {\n",
              "        vertical-align: top;\n",
              "    }\n",
              "\n",
              "    .dataframe thead th {\n",
              "        text-align: right;\n",
              "    }\n",
              "</style>\n",
              "<table border=\"1\" class=\"dataframe\">\n",
              "  <thead>\n",
              "    <tr style=\"text-align: right;\">\n",
              "      <th></th>\n",
              "      <th>START_DATE</th>\n",
              "      <th>END_DATE</th>\n",
              "      <th>CATEGORY</th>\n",
              "      <th>START</th>\n",
              "      <th>STOP</th>\n",
              "      <th>MILES</th>\n",
              "      <th>PURPOSE</th>\n",
              "    </tr>\n",
              "  </thead>\n",
              "  <tbody>\n",
              "    <tr>\n",
              "      <th>1151</th>\n",
              "      <td>12/31/2016 13:24</td>\n",
              "      <td>12/31/2016 13:42</td>\n",
              "      <td>Business</td>\n",
              "      <td>Kar?chi</td>\n",
              "      <td>Unknown Location</td>\n",
              "      <td>3.9</td>\n",
              "      <td>Temporary Site</td>\n",
              "    </tr>\n",
              "    <tr>\n",
              "      <th>1152</th>\n",
              "      <td>12/31/2016 15:03</td>\n",
              "      <td>12/31/2016 15:38</td>\n",
              "      <td>Business</td>\n",
              "      <td>Unknown Location</td>\n",
              "      <td>Unknown Location</td>\n",
              "      <td>16.2</td>\n",
              "      <td>Meeting</td>\n",
              "    </tr>\n",
              "    <tr>\n",
              "      <th>1153</th>\n",
              "      <td>12/31/2016 21:32</td>\n",
              "      <td>12/31/2016 21:50</td>\n",
              "      <td>Business</td>\n",
              "      <td>Katunayake</td>\n",
              "      <td>Gampaha</td>\n",
              "      <td>6.4</td>\n",
              "      <td>Temporary Site</td>\n",
              "    </tr>\n",
              "    <tr>\n",
              "      <th>1154</th>\n",
              "      <td>12/31/2016 22:08</td>\n",
              "      <td>12/31/2016 23:51</td>\n",
              "      <td>Business</td>\n",
              "      <td>Gampaha</td>\n",
              "      <td>Ilukwatta</td>\n",
              "      <td>48.2</td>\n",
              "      <td>Temporary Site</td>\n",
              "    </tr>\n",
              "    <tr>\n",
              "      <th>1155</th>\n",
              "      <td>Totals</td>\n",
              "      <td>NaN</td>\n",
              "      <td>NaN</td>\n",
              "      <td>NaN</td>\n",
              "      <td>NaN</td>\n",
              "      <td>12204.7</td>\n",
              "      <td>NaN</td>\n",
              "    </tr>\n",
              "  </tbody>\n",
              "</table>\n",
              "</div>"
            ],
            "text/plain": [
              "            START_DATE          END_DATE  CATEGORY             START  \\\n",
              "1151  12/31/2016 13:24  12/31/2016 13:42  Business           Kar?chi   \n",
              "1152  12/31/2016 15:03  12/31/2016 15:38  Business  Unknown Location   \n",
              "1153  12/31/2016 21:32  12/31/2016 21:50  Business        Katunayake   \n",
              "1154  12/31/2016 22:08  12/31/2016 23:51  Business           Gampaha   \n",
              "1155            Totals               NaN       NaN               NaN   \n",
              "\n",
              "                  STOP    MILES         PURPOSE  \n",
              "1151  Unknown Location      3.9  Temporary Site  \n",
              "1152  Unknown Location     16.2         Meeting  \n",
              "1153           Gampaha      6.4  Temporary Site  \n",
              "1154         Ilukwatta     48.2  Temporary Site  \n",
              "1155               NaN  12204.7             NaN  "
            ]
          },
          "execution_count": 6,
          "metadata": {},
          "output_type": "execute_result"
        }
      ]
    },
    {
      "cell_type": "code",
      "metadata": {
        "id": "_ePfiviM1u_8",
        "outputId": "3676203c-7bb7-4c25-f471-dbd26a809d0d"
      },
      "source": [
        "df.info()"
      ],
      "execution_count": null,
      "outputs": [
        {
          "name": "stdout",
          "output_type": "stream",
          "text": [
            "<class 'pandas.core.frame.DataFrame'>\n",
            "RangeIndex: 1156 entries, 0 to 1155\n",
            "Data columns (total 7 columns):\n",
            " #   Column      Non-Null Count  Dtype  \n",
            "---  ------      --------------  -----  \n",
            " 0   START_DATE  1156 non-null   object \n",
            " 1   END_DATE    1155 non-null   object \n",
            " 2   CATEGORY    1155 non-null   object \n",
            " 3   START       1155 non-null   object \n",
            " 4   STOP        1155 non-null   object \n",
            " 5   MILES       1156 non-null   float64\n",
            " 6   PURPOSE     653 non-null    object \n",
            "dtypes: float64(1), object(6)\n",
            "memory usage: 63.3+ KB\n"
          ]
        }
      ]
    },
    {
      "cell_type": "code",
      "metadata": {
        "id": "Ebg6K0LR1u_8",
        "outputId": "37435d57-f04f-473b-e6f1-15ddb18c32c6"
      },
      "source": [
        "df.shape"
      ],
      "execution_count": null,
      "outputs": [
        {
          "data": {
            "text/plain": [
              "(1156, 7)"
            ]
          },
          "execution_count": 8,
          "metadata": {},
          "output_type": "execute_result"
        }
      ]
    },
    {
      "cell_type": "code",
      "metadata": {
        "id": "tlNzjFxS1u_8",
        "outputId": "85ccf3be-f771-4845-c75c-e6897d6192e3"
      },
      "source": [
        "df.describe()"
      ],
      "execution_count": null,
      "outputs": [
        {
          "data": {
            "text/html": [
              "<div>\n",
              "<style scoped>\n",
              "    .dataframe tbody tr th:only-of-type {\n",
              "        vertical-align: middle;\n",
              "    }\n",
              "\n",
              "    .dataframe tbody tr th {\n",
              "        vertical-align: top;\n",
              "    }\n",
              "\n",
              "    .dataframe thead th {\n",
              "        text-align: right;\n",
              "    }\n",
              "</style>\n",
              "<table border=\"1\" class=\"dataframe\">\n",
              "  <thead>\n",
              "    <tr style=\"text-align: right;\">\n",
              "      <th></th>\n",
              "      <th>MILES</th>\n",
              "    </tr>\n",
              "  </thead>\n",
              "  <tbody>\n",
              "    <tr>\n",
              "      <th>count</th>\n",
              "      <td>1156.000000</td>\n",
              "    </tr>\n",
              "    <tr>\n",
              "      <th>mean</th>\n",
              "      <td>21.115398</td>\n",
              "    </tr>\n",
              "    <tr>\n",
              "      <th>std</th>\n",
              "      <td>359.299007</td>\n",
              "    </tr>\n",
              "    <tr>\n",
              "      <th>min</th>\n",
              "      <td>0.500000</td>\n",
              "    </tr>\n",
              "    <tr>\n",
              "      <th>25%</th>\n",
              "      <td>2.900000</td>\n",
              "    </tr>\n",
              "    <tr>\n",
              "      <th>50%</th>\n",
              "      <td>6.000000</td>\n",
              "    </tr>\n",
              "    <tr>\n",
              "      <th>75%</th>\n",
              "      <td>10.400000</td>\n",
              "    </tr>\n",
              "    <tr>\n",
              "      <th>max</th>\n",
              "      <td>12204.700000</td>\n",
              "    </tr>\n",
              "  </tbody>\n",
              "</table>\n",
              "</div>"
            ],
            "text/plain": [
              "              MILES\n",
              "count   1156.000000\n",
              "mean      21.115398\n",
              "std      359.299007\n",
              "min        0.500000\n",
              "25%        2.900000\n",
              "50%        6.000000\n",
              "75%       10.400000\n",
              "max    12204.700000"
            ]
          },
          "execution_count": 9,
          "metadata": {},
          "output_type": "execute_result"
        }
      ]
    },
    {
      "cell_type": "markdown",
      "metadata": {
        "id": "ro4QoxQK1u_9"
      },
      "source": [
        "### Handling missing values"
      ]
    },
    {
      "cell_type": "code",
      "metadata": {
        "id": "_4ASz1cY1u_9",
        "outputId": "5c12879f-0671-467c-b133-a7d6f363ed47"
      },
      "source": [
        "df.isnull().sum()"
      ],
      "execution_count": null,
      "outputs": [
        {
          "data": {
            "text/plain": [
              "START_DATE      0\n",
              "END_DATE        1\n",
              "CATEGORY        1\n",
              "START           1\n",
              "STOP            1\n",
              "MILES           0\n",
              "PURPOSE       503\n",
              "dtype: int64"
            ]
          },
          "execution_count": 10,
          "metadata": {},
          "output_type": "execute_result"
        }
      ]
    },
    {
      "cell_type": "code",
      "metadata": {
        "id": "k8d4nwdP1u_9",
        "outputId": "dfe68f90-0661-475d-d22f-0875a312fd37"
      },
      "source": [
        "plt.figure(figsize=(15,10))\n",
        "sns.heatmap(df.isnull(),cmap='magma',yticklabels=False)\n",
        "plt.show()"
      ],
      "execution_count": null,
      "outputs": [
        {
          "data": {
            "image/png": "[encoded data removed]",
            "text/plain": [
              "<Figure size 1080x720 with 2 Axes>"
            ]
          },
          "metadata": {},
          "output_type": "display_data"
        }
      ]
    },
    {
      "cell_type": "code",
      "metadata": {
        "colab": {
          "background_save": true
        },
        "id": "Y9fGDqp31u_9",
        "outputId": "011fc5d7-bbd7-4c20-ad96-b1170028e518"
      },
      "source": [
        "!pip install missingno"
      ],
      "execution_count": null,
      "outputs": [
        {
          "name": "stdout",
          "output_type": "stream",
          "text": [
            "Requirement already satisfied: missingno in /usr/local/lib/python3.7/dist-packages (0.5.0)\n",
            "Requirement already satisfied: seaborn in /usr/local/lib/python3.7/dist-packages (from missingno) (0.11.2)\n",
            "Requirement already satisfied: numpy in /usr/local/lib/python3.7/dist-packages (from missingno) (1.19.5)\n",
            "Requirement already satisfied: matplotlib in /usr/local/lib/python3.7/dist-packages (from missingno) (3.2.2)\n",
            "Requirement already satisfied: scipy in /usr/local/lib/python3.7/dist-packages (from missingno) (1.4.1)\n",
            "Requirement already satisfied: python-dateutil>=2.1 in /usr/local/lib/python3.7/dist-packages (from matplotlib->missingno) (2.8.2)\n",
            "Requirement already satisfied: pyparsing!=2.0.4,!=2.1.2,!=2.1.6,>=2.0.1 in /usr/local/lib/python3.7/dist-packages (from matplotlib->missingno) (2.4.7)\n",
            "Requirement already satisfied: cycler>=0.10 in /usr/local/lib/python3.7/dist-packages (from matplotlib->missingno) (0.10.0)\n",
            "Requirement already satisfied: kiwisolver>=1.0.1 in /usr/local/lib/python3.7/dist-packages (from matplotlib->missingno) (1.3.2)\n",
            "Requirement already satisfied: six in /usr/local/lib/python3.7/dist-packages (from cycler>=0.10->matplotlib->missingno) (1.15.0)\n",
            "Requirement already satisfied: pandas>=0.23 in /usr/local/lib/python3.7/dist-packages (from seaborn->missingno) (1.1.5)\n",
            "Requirement already satisfied: pytz>=2017.2 in /usr/local/lib/python3.7/dist-packages (from pandas>=0.23->seaborn->missingno) (2018.9)\n"
          ]
        }
      ]
    },
    {
      "cell_type": "code",
      "metadata": {
        "id": "zPQXIZZn1u_-",
        "outputId": "ccf83ae5-8d23-421b-fbd8-6343ab0af02f"
      },
      "source": [
        "import  missingno as msno\n",
        "msno.bar(df)\n",
        "plt.show()"
      ],
      "execution_count": null,
      "outputs": [
        {
          "data": {
            "image/png": "[encoded data removed]",
            "text/plain": [
              "<Figure size 1800x720 with 3 Axes>"
            ]
          },
          "metadata": {},
          "output_type": "display_data"
        }
      ]
    },
    {
      "cell_type": "code",
      "metadata": {
        "id": "_leQNVGt1u_-",
        "outputId": "1bcd28fe-6580-40f9-9243-536517813c77"
      },
      "source": [
        "null_columns = df.columns[df.isnull().any()]\n",
        "df[null_columns].isnull().sum()"
      ],
      "execution_count": null,
      "outputs": [
        {
          "data": {
            "text/plain": [
              "END_DATE      1\n",
              "CATEGORY      1\n",
              "START         1\n",
              "STOP          1\n",
              "PURPOSE     503\n",
              "dtype: int64"
            ]
          },
          "execution_count": 14,
          "metadata": {},
          "output_type": "execute_result"
        }
      ]
    },
    {
      "cell_type": "code",
      "metadata": {
        "id": "PLcRgy321u_-"
      },
      "source": [
        "df.drop(index=1155,axis=0,inplace=True)"
      ],
      "execution_count": null,
      "outputs": []
    },
    {
      "cell_type": "code",
      "metadata": {
        "id": "NaV2FnkT1u_-",
        "outputId": "55562e7b-8702-4e00-b4f9-f15ecb6b7eab"
      },
      "source": [
        "df.isnull().sum()"
      ],
      "execution_count": null,
      "outputs": [
        {
          "data": {
            "text/plain": [
              "START_DATE      0\n",
              "END_DATE        0\n",
              "CATEGORY        0\n",
              "START           0\n",
              "STOP            0\n",
              "MILES           0\n",
              "PURPOSE       502\n",
              "dtype: int64"
            ]
          },
          "execution_count": 16,
          "metadata": {},
          "output_type": "execute_result"
        }
      ]
    },
    {
      "cell_type": "code",
      "metadata": {
        "id": "Q1JVVY-U1u__",
        "outputId": "da211d4f-d35e-499d-c01f-d83d95c99d4a"
      },
      "source": [
        "df[\"PURPOSE\"].isnull().sum()/len(df)"
      ],
      "execution_count": null,
      "outputs": [
        {
          "data": {
            "text/plain": [
              "0.43463203463203465"
            ]
          },
          "execution_count": 17,
          "metadata": {},
          "output_type": "execute_result"
        }
      ]
    },
    {
      "cell_type": "code",
      "metadata": {
        "id": "2wH3159F1u__"
      },
      "source": [
        "df['PURPOSE'].fillna(method='ffill',inplace=True)"
      ],
      "execution_count": null,
      "outputs": []
    },
    {
      "cell_type": "code",
      "metadata": {
        "id": "gTbyUgf51u__",
        "outputId": "10bc7510-5bac-4928-8117-3c37935cd8a9"
      },
      "source": [
        "df.isnull().sum()"
      ],
      "execution_count": null,
      "outputs": [
        {
          "data": {
            "text/plain": [
              "START_DATE    0\n",
              "END_DATE      0\n",
              "CATEGORY      0\n",
              "START         0\n",
              "STOP          0\n",
              "MILES         0\n",
              "PURPOSE       0\n",
              "dtype: int64"
            ]
          },
          "execution_count": 19,
          "metadata": {},
          "output_type": "execute_result"
        }
      ]
    },
    {
      "cell_type": "code",
      "metadata": {
        "id": "2-x25fWe1u__",
        "outputId": "08c9560e-18f6-4bbc-f1b6-b77c7b1a46c9"
      },
      "source": [
        "df['START_DATE'] = pd.to_datetime(df['START_DATE'],errors='coerce')\n",
        "df['END_DATE'] = pd.to_datetime(df['END_DATE'],errors='coerce')\n",
        "df.info()"
      ],
      "execution_count": null,
      "outputs": [
        {
          "name": "stdout",
          "output_type": "stream",
          "text": [
            "<class 'pandas.core.frame.DataFrame'>\n",
            "Int64Index: 1155 entries, 0 to 1154\n",
            "Data columns (total 7 columns):\n",
            " #   Column      Non-Null Count  Dtype         \n",
            "---  ------      --------------  -----         \n",
            " 0   START_DATE  1155 non-null   datetime64[ns]\n",
            " 1   END_DATE    1155 non-null   datetime64[ns]\n",
            " 2   CATEGORY    1155 non-null   object        \n",
            " 3   START       1155 non-null   object        \n",
            " 4   STOP        1155 non-null   object        \n",
            " 5   MILES       1155 non-null   float64       \n",
            " 6   PURPOSE     1155 non-null   object        \n",
            "dtypes: datetime64[ns](2), float64(1), object(4)\n",
            "memory usage: 72.2+ KB\n"
          ]
        }
      ]
    },
    {
      "cell_type": "code",
      "metadata": {
        "id": "ZDiUNYGG1vAA",
        "outputId": "2e9b8d36-5f36-4bb2-abc7-d7e0297e0096"
      },
      "source": [
        "df.head()"
      ],
      "execution_count": null,
      "outputs": [
        {
          "data": {
            "text/html": [
              "<div>\n",
              "<style scoped>\n",
              "    .dataframe tbody tr th:only-of-type {\n",
              "        vertical-align: middle;\n",
              "    }\n",
              "\n",
              "    .dataframe tbody tr th {\n",
              "        vertical-align: top;\n",
              "    }\n",
              "\n",
              "    .dataframe thead th {\n",
              "        text-align: right;\n",
              "    }\n",
              "</style>\n",
              "<table border=\"1\" class=\"dataframe\">\n",
              "  <thead>\n",
              "    <tr style=\"text-align: right;\">\n",
              "      <th></th>\n",
              "      <th>START_DATE</th>\n",
              "      <th>END_DATE</th>\n",
              "      <th>CATEGORY</th>\n",
              "      <th>START</th>\n",
              "      <th>STOP</th>\n",
              "      <th>MILES</th>\n",
              "      <th>PURPOSE</th>\n",
              "    </tr>\n",
              "  </thead>\n",
              "  <tbody>\n",
              "    <tr>\n",
              "      <th>0</th>\n",
              "      <td>2016-01-01 21:11:00</td>\n",
              "      <td>2016-01-01 21:17:00</td>\n",
              "      <td>Business</td>\n",
              "      <td>Fort Pierce</td>\n",
              "      <td>Fort Pierce</td>\n",
              "      <td>5.1</td>\n",
              "      <td>Meal/Entertain</td>\n",
              "    </tr>\n",
              "    <tr>\n",
              "      <th>1</th>\n",
              "      <td>2016-01-02 01:25:00</td>\n",
              "      <td>2016-01-02 01:37:00</td>\n",
              "      <td>Business</td>\n",
              "      <td>Fort Pierce</td>\n",
              "      <td>Fort Pierce</td>\n",
              "      <td>5.0</td>\n",
              "      <td>Meal/Entertain</td>\n",
              "    </tr>\n",
              "    <tr>\n",
              "      <th>2</th>\n",
              "      <td>2016-01-02 20:25:00</td>\n",
              "      <td>2016-01-02 20:38:00</td>\n",
              "      <td>Business</td>\n",
              "      <td>Fort Pierce</td>\n",
              "      <td>Fort Pierce</td>\n",
              "      <td>4.8</td>\n",
              "      <td>Errand/Supplies</td>\n",
              "    </tr>\n",
              "    <tr>\n",
              "      <th>3</th>\n",
              "      <td>2016-01-05 17:31:00</td>\n",
              "      <td>2016-01-05 17:45:00</td>\n",
              "      <td>Business</td>\n",
              "      <td>Fort Pierce</td>\n",
              "      <td>Fort Pierce</td>\n",
              "      <td>4.7</td>\n",
              "      <td>Meeting</td>\n",
              "    </tr>\n",
              "    <tr>\n",
              "      <th>4</th>\n",
              "      <td>2016-01-06 14:42:00</td>\n",
              "      <td>2016-01-06 15:49:00</td>\n",
              "      <td>Business</td>\n",
              "      <td>Fort Pierce</td>\n",
              "      <td>West Palm Beach</td>\n",
              "      <td>63.7</td>\n",
              "      <td>Customer Visit</td>\n",
              "    </tr>\n",
              "  </tbody>\n",
              "</table>\n",
              "</div>"
            ],
            "text/plain": [
              "           START_DATE            END_DATE  CATEGORY        START  \\\n",
              "0 2016-01-01 21:11:00 2016-01-01 21:17:00  Business  Fort Pierce   \n",
              "1 2016-01-02 01:25:00 2016-01-02 01:37:00  Business  Fort Pierce   \n",
              "2 2016-01-02 20:25:00 2016-01-02 20:38:00  Business  Fort Pierce   \n",
              "3 2016-01-05 17:31:00 2016-01-05 17:45:00  Business  Fort Pierce   \n",
              "4 2016-01-06 14:42:00 2016-01-06 15:49:00  Business  Fort Pierce   \n",
              "\n",
              "              STOP  MILES          PURPOSE  \n",
              "0      Fort Pierce    5.1   Meal/Entertain  \n",
              "1      Fort Pierce    5.0   Meal/Entertain  \n",
              "2      Fort Pierce    4.8  Errand/Supplies  \n",
              "3      Fort Pierce    4.7          Meeting  \n",
              "4  West Palm Beach   63.7   Customer Visit  "
            ]
          },
          "execution_count": 21,
          "metadata": {},
          "output_type": "execute_result"
        }
      ]
    },
    {
      "cell_type": "code",
      "metadata": {
        "id": "fZBPRFgD1vAA",
        "outputId": "feb0208b-8af7-400d-c0d2-b57b873a4217"
      },
      "source": [
        "import  missingno as msno\n",
        "msno.bar(df)\n",
        "plt.show()"
      ],
      "execution_count": null,
      "outputs": [
        {
          "data": {
            "image/png": "[encoded data removed]",
            "text/plain": [
              "<Figure size 1800x720 with 3 Axes>"
            ]
          },
          "metadata": {},
          "output_type": "display_data"
        }
      ]
    },
    {
      "cell_type": "code",
      "metadata": {
        "id": "n1xm8uN61vAA",
        "outputId": "1aa5c584-8816-48e2-b941-c7405e05a20c"
      },
      "source": [
        "category = pd.crosstab(index=df['CATEGORY'],columns = 'count of travel as per category')\n",
        "category"
      ],
      "execution_count": null,
      "outputs": [
        {
          "data": {
            "text/html": [
              "<div>\n",
              "<style scoped>\n",
              "    .dataframe tbody tr th:only-of-type {\n",
              "        vertical-align: middle;\n",
              "    }\n",
              "\n",
              "    .dataframe tbody tr th {\n",
              "        vertical-align: top;\n",
              "    }\n",
              "\n",
              "    .dataframe thead th {\n",
              "        text-align: right;\n",
              "    }\n",
              "</style>\n",
              "<table border=\"1\" class=\"dataframe\">\n",
              "  <thead>\n",
              "    <tr style=\"text-align: right;\">\n",
              "      <th>col_0</th>\n",
              "      <th>count of travel as per category</th>\n",
              "    </tr>\n",
              "    <tr>\n",
              "      <th>CATEGORY</th>\n",
              "      <th></th>\n",
              "    </tr>\n",
              "  </thead>\n",
              "  <tbody>\n",
              "    <tr>\n",
              "      <th>Business</th>\n",
              "      <td>1078</td>\n",
              "    </tr>\n",
              "    <tr>\n",
              "      <th>Personal</th>\n",
              "      <td>77</td>\n",
              "    </tr>\n",
              "  </tbody>\n",
              "</table>\n",
              "</div>"
            ],
            "text/plain": [
              "col_0     count of travel as per category\n",
              "CATEGORY                                 \n",
              "Business                             1078\n",
              "Personal                               77"
            ]
          },
          "execution_count": 23,
          "metadata": {},
          "output_type": "execute_result"
        }
      ]
    },
    {
      "cell_type": "code",
      "metadata": {
        "id": "nBQ-Rk0b1vAA",
        "outputId": "9e26e0fc-01a5-473b-d9c4-ff2fc39cf242"
      },
      "source": [
        "category.plot(kind='bar',color='r')\n",
        "plt.legend()"
      ],
      "execution_count": null,
      "outputs": [
        {
          "data": {
            "text/plain": [
              "<matplotlib.legend.Legend at 0x1ac34736760>"
            ]
          },
          "execution_count": 24,
          "metadata": {},
          "output_type": "execute_result"
        },
        {
          "data": {
            "image/png": "[encoded data removed]",
            "text/plain": [
              "<Figure size 432x288 with 1 Axes>"
            ]
          },
          "metadata": {},
          "output_type": "display_data"
        }
      ]
    },
    {
      "cell_type": "code",
      "metadata": {
        "id": "ObGvgm9j1vAA",
        "outputId": "04d37c0d-ce4c-429c-aa52-7f74818d4a94"
      },
      "source": [
        "start_point=df.START.value_counts()\n",
        "start_point\n",
        "print(start_point[start_point>10])"
      ],
      "execution_count": null,
      "outputs": [
        {
          "name": "stdout",
          "output_type": "stream",
          "text": [
            "Cary                201\n",
            "Unknown Location    148\n",
            "Morrisville          85\n",
            "Whitebridge          68\n",
            "Islamabad            57\n",
            "Durham               37\n",
            "Lahore               36\n",
            "Raleigh              28\n",
            "Kar?chi              27\n",
            "Apex                 17\n",
            "Westpark Place       17\n",
            "Berkeley             16\n",
            "Midtown              14\n",
            "R?walpindi           11\n",
            "Kissimmee            11\n",
            "Kenner               11\n",
            "Name: START, dtype: int64\n"
          ]
        }
      ]
    },
    {
      "cell_type": "code",
      "metadata": {
        "id": "IosOUMih1vAB",
        "outputId": "e13111a5-d968-42bf-df61-533643021c6a"
      },
      "source": [
        "start_point[start_point>10].plot(kind='pie',shadow=True)\n",
        "plt.show()"
      ],
      "execution_count": null,
      "outputs": [
        {
          "data": {
            "image/png": "[encoded data removed]",
            "text/plain": [
              "<Figure size 432x288 with 1 Axes>"
            ]
          },
          "metadata": {},
          "output_type": "display_data"
        }
      ]
    },
    {
      "cell_type": "code",
      "metadata": {
        "id": "_2vw2wnC1vAB",
        "outputId": "44026d58-980c-4d7f-aece-471bb62d018f"
      },
      "source": [
        "print(start_point[start_point<=10])"
      ],
      "execution_count": null,
      "outputs": [
        {
          "name": "stdout",
          "output_type": "stream",
          "text": [
            "Emeryville              10\n",
            "New Orleans             10\n",
            "Downtown                 9\n",
            "Edgehill Farms           8\n",
            "San Francisco            8\n",
            "                        ..\n",
            "Hayesville               1\n",
            "Tenderloin               1\n",
            "North Berkeley Hills     1\n",
            "Sky Lake                 1\n",
            "Austin                   1\n",
            "Name: START, Length: 161, dtype: int64\n"
          ]
        }
      ]
    },
    {
      "cell_type": "code",
      "metadata": {
        "id": "HO0pKBWb1vAB",
        "outputId": "6117c6cf-3f86-4808-d6f1-1ce4ffbf53ae"
      },
      "source": [
        "stop_point=df.STOP.value_counts()\n",
        "stop_point\n",
        "print(stop_point[stop_point>10])"
      ],
      "execution_count": null,
      "outputs": [
        {
          "name": "stdout",
          "output_type": "stream",
          "text": [
            "Cary                203\n",
            "Unknown Location    149\n",
            "Morrisville          84\n",
            "Whitebridge          65\n",
            "Islamabad            58\n",
            "Lahore               36\n",
            "Durham               36\n",
            "Raleigh              29\n",
            "Kar?chi              26\n",
            "Apex                 17\n",
            "Berkeley             16\n",
            "Westpark Place       16\n",
            "R?walpindi           13\n",
            "Kissimmee            12\n",
            "Midtown              11\n",
            "Name: STOP, dtype: int64\n"
          ]
        }
      ]
    },
    {
      "cell_type": "code",
      "metadata": {
        "id": "WiJPZn6M1vAB",
        "outputId": "36aef094-b267-4f08-ea92-38477b73afba"
      },
      "source": [
        "\n",
        "print(stop_point[stop_point<=10])"
      ],
      "execution_count": null,
      "outputs": [
        {
          "name": "stdout",
          "output_type": "stream",
          "text": [
            "New Orleans            10\n",
            "Edgehill Farms         10\n",
            "Kenner                 10\n",
            "Central                 9\n",
            "Emeryville              9\n",
            "                       ..\n",
            "Northwest Rectangle     1\n",
            "Mebane                  1\n",
            "St Thomas               1\n",
            "SOMISSPO                1\n",
            "Palm Beach              1\n",
            "Name: STOP, Length: 173, dtype: int64\n"
          ]
        }
      ]
    },
    {
      "cell_type": "code",
      "metadata": {
        "id": "OVvm4iju1vAC",
        "outputId": "42c9f3bb-bf95-4194-995e-c2ace02ca1fc"
      },
      "source": [
        "miles = df.MILES.value_counts()\n",
        "miles\n",
        "print(miles[miles>10])\n",
        "miles[miles>10].plot(kind='bar')"
      ],
      "execution_count": null,
      "outputs": [
        {
          "name": "stdout",
          "output_type": "stream",
          "text": [
            "9.9     28\n",
            "3.1     26\n",
            "2.1     19\n",
            "10.4    19\n",
            "2.5     19\n",
            "3.0     19\n",
            "1.8     18\n",
            "2.2     18\n",
            "1.7     18\n",
            "2.8     16\n",
            "1.9     16\n",
            "2.0     16\n",
            "3.3     16\n",
            "6.1     15\n",
            "3.8     15\n",
            "1.4     14\n",
            "5.5     14\n",
            "1.6     13\n",
            "7.9     13\n",
            "1.5     12\n",
            "2.7     12\n",
            "6.2     12\n",
            "5.7     12\n",
            "2.9     12\n",
            "2.3     12\n",
            "6.0     11\n",
            "7.7     11\n",
            "1.0     11\n",
            "4.9     11\n",
            "5.1     11\n",
            "Name: MILES, dtype: int64\n"
          ]
        },
        {
          "data": {
            "text/plain": [
              "<AxesSubplot:>"
            ]
          },
          "execution_count": 30,
          "metadata": {},
          "output_type": "execute_result"
        },
        {
          "data": {
            "image/png": "[encoded data removed]",
            "text/plain": [
              "<Figure size 432x288 with 1 Axes>"
            ]
          },
          "metadata": {},
          "output_type": "display_data"
        }
      ]
    },
    {
      "cell_type": "code",
      "metadata": {
        "id": "LHsJBWE61vAC",
        "outputId": "7492760c-07d3-4950-b082-ad645e1ac626"
      },
      "source": [
        "print(miles[miles<=10])"
      ],
      "execution_count": null,
      "outputs": [
        {
          "name": "stdout",
          "output_type": "stream",
          "text": [
            "8.7      10\n",
            "3.9      10\n",
            "3.6      10\n",
            "8.4      10\n",
            "5.3      10\n",
            "         ..\n",
            "310.3     1\n",
            "11.1      1\n",
            "10.7      1\n",
            "195.6     1\n",
            "22.7      1\n",
            "Name: MILES, Length: 226, dtype: int64\n"
          ]
        }
      ]
    },
    {
      "cell_type": "code",
      "metadata": {
        "id": "Usyyg0uF1vAC",
        "outputId": "ab410efa-07ee-493f-87b4-aee3a646a176"
      },
      "source": [
        "miles = pd.crosstab(index=df['MILES']>10,columns='count of miles')\n",
        "miles.plot(kind='bar',color='r')\n",
        "miles"
      ],
      "execution_count": null,
      "outputs": [
        {
          "data": {
            "text/html": [
              "<div>\n",
              "<style scoped>\n",
              "    .dataframe tbody tr th:only-of-type {\n",
              "        vertical-align: middle;\n",
              "    }\n",
              "\n",
              "    .dataframe tbody tr th {\n",
              "        vertical-align: top;\n",
              "    }\n",
              "\n",
              "    .dataframe thead th {\n",
              "        text-align: right;\n",
              "    }\n",
              "</style>\n",
              "<table border=\"1\" class=\"dataframe\">\n",
              "  <thead>\n",
              "    <tr style=\"text-align: right;\">\n",
              "      <th>col_0</th>\n",
              "      <th>count of miles</th>\n",
              "    </tr>\n",
              "    <tr>\n",
              "      <th>MILES</th>\n",
              "      <th></th>\n",
              "    </tr>\n",
              "  </thead>\n",
              "  <tbody>\n",
              "    <tr>\n",
              "      <th>False</th>\n",
              "      <td>840</td>\n",
              "    </tr>\n",
              "    <tr>\n",
              "      <th>True</th>\n",
              "      <td>315</td>\n",
              "    </tr>\n",
              "  </tbody>\n",
              "</table>\n",
              "</div>"
            ],
            "text/plain": [
              "col_0  count of miles\n",
              "MILES                \n",
              "False             840\n",
              "True              315"
            ]
          },
          "execution_count": 32,
          "metadata": {},
          "output_type": "execute_result"
        },
        {
          "data": {
            "image/png": "[encoded data removed]",
            "text/plain": [
              "<Figure size 432x288 with 1 Axes>"
            ]
          },
          "metadata": {},
          "output_type": "display_data"
        }
      ]
    },
    {
      "cell_type": "code",
      "metadata": {
        "id": "gRsTVqVD1vAC",
        "outputId": "fa12afc0-00ad-4bec-816a-067458a0e6d3"
      },
      "source": [
        "print(df.PURPOSE.value_counts())"
      ],
      "execution_count": null,
      "outputs": [
        {
          "name": "stdout",
          "output_type": "stream",
          "text": [
            "Meeting            308\n",
            "Meal/Entertain     245\n",
            "Temporary Site     196\n",
            "Errand/Supplies    173\n",
            "Customer Visit     155\n",
            "Airport/Travel      54\n",
            "Between Offices     18\n",
            "Moving               4\n",
            "Charity ($)          1\n",
            "Commute              1\n",
            "Name: PURPOSE, dtype: int64\n"
          ]
        }
      ]
    },
    {
      "cell_type": "code",
      "metadata": {
        "id": "qal5SWOY1vAC",
        "outputId": "38aab691-fe84-43c7-bb89-f28486ec1727"
      },
      "source": [
        "plt.figure(figsize=(15,6))\n",
        "sns.countplot(df['PURPOSE'],order = df['PURPOSE'].value_counts().index,palette='viridis')\n",
        "plt.show()"
      ],
      "execution_count": null,
      "outputs": [
        {
          "data": {
            "image/png": "[encoded data removed]",
            "text/plain": [
              "<Figure size 1080x432 with 1 Axes>"
            ]
          },
          "metadata": {},
          "output_type": "display_data"
        }
      ]
    },
    {
      "cell_type": "markdown",
      "metadata": {
        "id": "-EqwO0Bz1vAD"
      },
      "source": [
        "Lets calculate the duration, as there might be some relation of it with purpose of ride"
      ]
    },
    {
      "cell_type": "code",
      "metadata": {
        "id": "8xyhPn_o1vAD",
        "outputId": "35c69a60-7ef4-40cb-faa7-5f9904f6a4b3"
      },
      "source": [
        "df['minutes'] = df.END_DATE -df.START_DATE\n",
        "df.head()"
      ],
      "execution_count": null,
      "outputs": [
        {
          "data": {
            "text/html": [
              "<div>\n",
              "<style scoped>\n",
              "    .dataframe tbody tr th:only-of-type {\n",
              "        vertical-align: middle;\n",
              "    }\n",
              "\n",
              "    .dataframe tbody tr th {\n",
              "        vertical-align: top;\n",
              "    }\n",
              "\n",
              "    .dataframe thead th {\n",
              "        text-align: right;\n",
              "    }\n",
              "</style>\n",
              "<table border=\"1\" class=\"dataframe\">\n",
              "  <thead>\n",
              "    <tr style=\"text-align: right;\">\n",
              "      <th></th>\n",
              "      <th>START_DATE</th>\n",
              "      <th>END_DATE</th>\n",
              "      <th>CATEGORY</th>\n",
              "      <th>START</th>\n",
              "      <th>STOP</th>\n",
              "      <th>MILES</th>\n",
              "      <th>PURPOSE</th>\n",
              "      <th>minutes</th>\n",
              "    </tr>\n",
              "  </thead>\n",
              "  <tbody>\n",
              "    <tr>\n",
              "      <th>0</th>\n",
              "      <td>2016-01-01 21:11:00</td>\n",
              "      <td>2016-01-01 21:17:00</td>\n",
              "      <td>Business</td>\n",
              "      <td>Fort Pierce</td>\n",
              "      <td>Fort Pierce</td>\n",
              "      <td>5.1</td>\n",
              "      <td>Meal/Entertain</td>\n",
              "      <td>0 days 00:06:00</td>\n",
              "    </tr>\n",
              "    <tr>\n",
              "      <th>1</th>\n",
              "      <td>2016-01-02 01:25:00</td>\n",
              "      <td>2016-01-02 01:37:00</td>\n",
              "      <td>Business</td>\n",
              "      <td>Fort Pierce</td>\n",
              "      <td>Fort Pierce</td>\n",
              "      <td>5.0</td>\n",
              "      <td>Meal/Entertain</td>\n",
              "      <td>0 days 00:12:00</td>\n",
              "    </tr>\n",
              "    <tr>\n",
              "      <th>2</th>\n",
              "      <td>2016-01-02 20:25:00</td>\n",
              "      <td>2016-01-02 20:38:00</td>\n",
              "      <td>Business</td>\n",
              "      <td>Fort Pierce</td>\n",
              "      <td>Fort Pierce</td>\n",
              "      <td>4.8</td>\n",
              "      <td>Errand/Supplies</td>\n",
              "      <td>0 days 00:13:00</td>\n",
              "    </tr>\n",
              "    <tr>\n",
              "      <th>3</th>\n",
              "      <td>2016-01-05 17:31:00</td>\n",
              "      <td>2016-01-05 17:45:00</td>\n",
              "      <td>Business</td>\n",
              "      <td>Fort Pierce</td>\n",
              "      <td>Fort Pierce</td>\n",
              "      <td>4.7</td>\n",
              "      <td>Meeting</td>\n",
              "      <td>0 days 00:14:00</td>\n",
              "    </tr>\n",
              "    <tr>\n",
              "      <th>4</th>\n",
              "      <td>2016-01-06 14:42:00</td>\n",
              "      <td>2016-01-06 15:49:00</td>\n",
              "      <td>Business</td>\n",
              "      <td>Fort Pierce</td>\n",
              "      <td>West Palm Beach</td>\n",
              "      <td>63.7</td>\n",
              "      <td>Customer Visit</td>\n",
              "      <td>0 days 01:07:00</td>\n",
              "    </tr>\n",
              "  </tbody>\n",
              "</table>\n",
              "</div>"
            ],
            "text/plain": [
              "           START_DATE            END_DATE  CATEGORY        START  \\\n",
              "0 2016-01-01 21:11:00 2016-01-01 21:17:00  Business  Fort Pierce   \n",
              "1 2016-01-02 01:25:00 2016-01-02 01:37:00  Business  Fort Pierce   \n",
              "2 2016-01-02 20:25:00 2016-01-02 20:38:00  Business  Fort Pierce   \n",
              "3 2016-01-05 17:31:00 2016-01-05 17:45:00  Business  Fort Pierce   \n",
              "4 2016-01-06 14:42:00 2016-01-06 15:49:00  Business  Fort Pierce   \n",
              "\n",
              "              STOP  MILES          PURPOSE         minutes  \n",
              "0      Fort Pierce    5.1   Meal/Entertain 0 days 00:06:00  \n",
              "1      Fort Pierce    5.0   Meal/Entertain 0 days 00:12:00  \n",
              "2      Fort Pierce    4.8  Errand/Supplies 0 days 00:13:00  \n",
              "3      Fort Pierce    4.7          Meeting 0 days 00:14:00  \n",
              "4  West Palm Beach   63.7   Customer Visit 0 days 01:07:00  "
            ]
          },
          "execution_count": 35,
          "metadata": {},
          "output_type": "execute_result"
        }
      ]
    },
    {
      "cell_type": "code",
      "metadata": {
        "id": "OnCMtGuq1vAD",
        "outputId": "8358596b-2203-4b7c-ebe3-65b295c089d9"
      },
      "source": [
        "df['minutes']= df['minutes'].dt.total_seconds()/60\n",
        "df.head()"
      ],
      "execution_count": null,
      "outputs": [
        {
          "data": {
            "text/html": [
              "<div>\n",
              "<style scoped>\n",
              "    .dataframe tbody tr th:only-of-type {\n",
              "        vertical-align: middle;\n",
              "    }\n",
              "\n",
              "    .dataframe tbody tr th {\n",
              "        vertical-align: top;\n",
              "    }\n",
              "\n",
              "    .dataframe thead th {\n",
              "        text-align: right;\n",
              "    }\n",
              "</style>\n",
              "<table border=\"1\" class=\"dataframe\">\n",
              "  <thead>\n",
              "    <tr style=\"text-align: right;\">\n",
              "      <th></th>\n",
              "      <th>START_DATE</th>\n",
              "      <th>END_DATE</th>\n",
              "      <th>CATEGORY</th>\n",
              "      <th>START</th>\n",
              "      <th>STOP</th>\n",
              "      <th>MILES</th>\n",
              "      <th>PURPOSE</th>\n",
              "      <th>minutes</th>\n",
              "    </tr>\n",
              "  </thead>\n",
              "  <tbody>\n",
              "    <tr>\n",
              "      <th>0</th>\n",
              "      <td>2016-01-01 21:11:00</td>\n",
              "      <td>2016-01-01 21:17:00</td>\n",
              "      <td>Business</td>\n",
              "      <td>Fort Pierce</td>\n",
              "      <td>Fort Pierce</td>\n",
              "      <td>5.1</td>\n",
              "      <td>Meal/Entertain</td>\n",
              "      <td>6.0</td>\n",
              "    </tr>\n",
              "    <tr>\n",
              "      <th>1</th>\n",
              "      <td>2016-01-02 01:25:00</td>\n",
              "      <td>2016-01-02 01:37:00</td>\n",
              "      <td>Business</td>\n",
              "      <td>Fort Pierce</td>\n",
              "      <td>Fort Pierce</td>\n",
              "      <td>5.0</td>\n",
              "      <td>Meal/Entertain</td>\n",
              "      <td>12.0</td>\n",
              "    </tr>\n",
              "    <tr>\n",
              "      <th>2</th>\n",
              "      <td>2016-01-02 20:25:00</td>\n",
              "      <td>2016-01-02 20:38:00</td>\n",
              "      <td>Business</td>\n",
              "      <td>Fort Pierce</td>\n",
              "      <td>Fort Pierce</td>\n",
              "      <td>4.8</td>\n",
              "      <td>Errand/Supplies</td>\n",
              "      <td>13.0</td>\n",
              "    </tr>\n",
              "    <tr>\n",
              "      <th>3</th>\n",
              "      <td>2016-01-05 17:31:00</td>\n",
              "      <td>2016-01-05 17:45:00</td>\n",
              "      <td>Business</td>\n",
              "      <td>Fort Pierce</td>\n",
              "      <td>Fort Pierce</td>\n",
              "      <td>4.7</td>\n",
              "      <td>Meeting</td>\n",
              "      <td>14.0</td>\n",
              "    </tr>\n",
              "    <tr>\n",
              "      <th>4</th>\n",
              "      <td>2016-01-06 14:42:00</td>\n",
              "      <td>2016-01-06 15:49:00</td>\n",
              "      <td>Business</td>\n",
              "      <td>Fort Pierce</td>\n",
              "      <td>West Palm Beach</td>\n",
              "      <td>63.7</td>\n",
              "      <td>Customer Visit</td>\n",
              "      <td>67.0</td>\n",
              "    </tr>\n",
              "  </tbody>\n",
              "</table>\n",
              "</div>"
            ],
            "text/plain": [
              "           START_DATE            END_DATE  CATEGORY        START  \\\n",
              "0 2016-01-01 21:11:00 2016-01-01 21:17:00  Business  Fort Pierce   \n",
              "1 2016-01-02 01:25:00 2016-01-02 01:37:00  Business  Fort Pierce   \n",
              "2 2016-01-02 20:25:00 2016-01-02 20:38:00  Business  Fort Pierce   \n",
              "3 2016-01-05 17:31:00 2016-01-05 17:45:00  Business  Fort Pierce   \n",
              "4 2016-01-06 14:42:00 2016-01-06 15:49:00  Business  Fort Pierce   \n",
              "\n",
              "              STOP  MILES          PURPOSE  minutes  \n",
              "0      Fort Pierce    5.1   Meal/Entertain      6.0  \n",
              "1      Fort Pierce    5.0   Meal/Entertain     12.0  \n",
              "2      Fort Pierce    4.8  Errand/Supplies     13.0  \n",
              "3      Fort Pierce    4.7          Meeting     14.0  \n",
              "4  West Palm Beach   63.7   Customer Visit     67.0  "
            ]
          },
          "execution_count": 36,
          "metadata": {},
          "output_type": "execute_result"
        }
      ]
    },
    {
      "cell_type": "markdown",
      "metadata": {
        "id": "6JcUCTR51vAE"
      },
      "source": [
        "Grouping Purpose by miles to see if we can get any pattern"
      ]
    },
    {
      "cell_type": "code",
      "metadata": {
        "id": "muHBhFrf1vAE",
        "outputId": "60337aa1-606a-4c5e-ca58-7e28327c3cce"
      },
      "source": [
        "pd.DataFrame({'Mean':df.groupby(['PURPOSE'])['MILES'].mean().round(1),\n",
        "             'Min': df.groupby(['PURPOSE'])['MILES'].min(),\n",
        "             'Max':df.groupby(['PURPOSE'])['MILES'].max()}).reset_index()"
      ],
      "execution_count": null,
      "outputs": [
        {
          "data": {
            "text/html": [
              "<div>\n",
              "<style scoped>\n",
              "    .dataframe tbody tr th:only-of-type {\n",
              "        vertical-align: middle;\n",
              "    }\n",
              "\n",
              "    .dataframe tbody tr th {\n",
              "        vertical-align: top;\n",
              "    }\n",
              "\n",
              "    .dataframe thead th {\n",
              "        text-align: right;\n",
              "    }\n",
              "</style>\n",
              "<table border=\"1\" class=\"dataframe\">\n",
              "  <thead>\n",
              "    <tr style=\"text-align: right;\">\n",
              "      <th></th>\n",
              "      <th>PURPOSE</th>\n",
              "      <th>Mean</th>\n",
              "      <th>Min</th>\n",
              "      <th>Max</th>\n",
              "    </tr>\n",
              "  </thead>\n",
              "  <tbody>\n",
              "    <tr>\n",
              "      <th>0</th>\n",
              "      <td>Airport/Travel</td>\n",
              "      <td>15.0</td>\n",
              "      <td>0.9</td>\n",
              "      <td>156.9</td>\n",
              "    </tr>\n",
              "    <tr>\n",
              "      <th>1</th>\n",
              "      <td>Between Offices</td>\n",
              "      <td>10.9</td>\n",
              "      <td>1.9</td>\n",
              "      <td>39.2</td>\n",
              "    </tr>\n",
              "    <tr>\n",
              "      <th>2</th>\n",
              "      <td>Charity ($)</td>\n",
              "      <td>15.1</td>\n",
              "      <td>15.1</td>\n",
              "      <td>15.1</td>\n",
              "    </tr>\n",
              "    <tr>\n",
              "      <th>3</th>\n",
              "      <td>Commute</td>\n",
              "      <td>180.2</td>\n",
              "      <td>180.2</td>\n",
              "      <td>180.2</td>\n",
              "    </tr>\n",
              "    <tr>\n",
              "      <th>4</th>\n",
              "      <td>Customer Visit</td>\n",
              "      <td>16.1</td>\n",
              "      <td>0.6</td>\n",
              "      <td>310.3</td>\n",
              "    </tr>\n",
              "    <tr>\n",
              "      <th>5</th>\n",
              "      <td>Errand/Supplies</td>\n",
              "      <td>5.9</td>\n",
              "      <td>0.5</td>\n",
              "      <td>195.3</td>\n",
              "    </tr>\n",
              "    <tr>\n",
              "      <th>6</th>\n",
              "      <td>Meal/Entertain</td>\n",
              "      <td>5.8</td>\n",
              "      <td>0.6</td>\n",
              "      <td>36.5</td>\n",
              "    </tr>\n",
              "    <tr>\n",
              "      <th>7</th>\n",
              "      <td>Meeting</td>\n",
              "      <td>12.7</td>\n",
              "      <td>0.7</td>\n",
              "      <td>201.0</td>\n",
              "    </tr>\n",
              "    <tr>\n",
              "      <th>8</th>\n",
              "      <td>Moving</td>\n",
              "      <td>4.6</td>\n",
              "      <td>3.3</td>\n",
              "      <td>6.1</td>\n",
              "    </tr>\n",
              "    <tr>\n",
              "      <th>9</th>\n",
              "      <td>Temporary Site</td>\n",
              "      <td>11.0</td>\n",
              "      <td>0.7</td>\n",
              "      <td>195.6</td>\n",
              "    </tr>\n",
              "  </tbody>\n",
              "</table>\n",
              "</div>"
            ],
            "text/plain": [
              "           PURPOSE   Mean    Min    Max\n",
              "0   Airport/Travel   15.0    0.9  156.9\n",
              "1  Between Offices   10.9    1.9   39.2\n",
              "2      Charity ($)   15.1   15.1   15.1\n",
              "3          Commute  180.2  180.2  180.2\n",
              "4   Customer Visit   16.1    0.6  310.3\n",
              "5  Errand/Supplies    5.9    0.5  195.3\n",
              "6   Meal/Entertain    5.8    0.6   36.5\n",
              "7          Meeting   12.7    0.7  201.0\n",
              "8           Moving    4.6    3.3    6.1\n",
              "9   Temporary Site   11.0    0.7  195.6"
            ]
          },
          "execution_count": 39,
          "metadata": {},
          "output_type": "execute_result"
        }
      ]
    },
    {
      "cell_type": "markdown",
      "metadata": {
        "id": "nDms4um91vAE"
      },
      "source": [
        "Box Plot of Miles and minutes "
      ]
    },
    {
      "cell_type": "code",
      "metadata": {
        "id": "DCIueC7W1vAE",
        "outputId": "fcc8427a-cd04-419a-b94f-462716483abb"
      },
      "source": [
        "plt.figure(figsize=(16,7))\n",
        "plt.subplot(1,2,1)\n",
        "sns.boxplot(data=df,x=df.PURPOSE, y=df.MILES)\n",
        "plt.xticks(rotation=45)\n",
        "plt.subplot(1,2,2)\n",
        "sns.boxplot(data=df,x=df.PURPOSE,y=df.minutes)\n",
        "plt.xticks(rotation=45)\n"
      ],
      "execution_count": null,
      "outputs": [
        {
          "data": {
            "text/plain": [
              "(array([0, 1, 2, 3, 4, 5, 6, 7, 8, 9]),\n",
              " [Text(0, 0, 'Meal/Entertain'),\n",
              "  Text(1, 0, 'Errand/Supplies'),\n",
              "  Text(2, 0, 'Meeting'),\n",
              "  Text(3, 0, 'Customer Visit'),\n",
              "  Text(4, 0, 'Temporary Site'),\n",
              "  Text(5, 0, 'Between Offices'),\n",
              "  Text(6, 0, 'Charity ($)'),\n",
              "  Text(7, 0, 'Commute'),\n",
              "  Text(8, 0, 'Moving'),\n",
              "  Text(9, 0, 'Airport/Travel')])"
            ]
          },
          "execution_count": 45,
          "metadata": {},
          "output_type": "execute_result"
        },
        {
          "data": {
            "image/png": "[encoded data removed]",
            "text/plain": [
              "<Figure size 1152x504 with 2 Axes>"
            ]
          },
          "metadata": {},
          "output_type": "display_data"
        }
      ]
    },
    {
      "cell_type": "code",
      "metadata": {
        "id": "y5TLb3UN1vAF",
        "outputId": "d34ba8d5-c2b7-4a25-8477-06bdd3375d32"
      },
      "source": [
        "plt.figure(figsize=(16,7))\n",
        "plt.subplot(1,2,1)\n",
        "sns.boxplot(data=df,x=df.PURPOSE,y=df.MILES,showfliers=False)\n",
        "plt.xticks(rotation=45)\n",
        "plt.subplot(1,2,2)\n",
        "sns.boxplot(data=df,x=df.PURPOSE,y=df.minutes,showfliers=False)\n",
        "plt.xticks(rotation=45)"
      ],
      "execution_count": null,
      "outputs": [
        {
          "data": {
            "text/plain": [
              "(array([0, 1, 2, 3, 4, 5, 6, 7, 8, 9]),\n",
              " [Text(0, 0, 'Meal/Entertain'),\n",
              "  Text(1, 0, 'Errand/Supplies'),\n",
              "  Text(2, 0, 'Meeting'),\n",
              "  Text(3, 0, 'Customer Visit'),\n",
              "  Text(4, 0, 'Temporary Site'),\n",
              "  Text(5, 0, 'Between Offices'),\n",
              "  Text(6, 0, 'Charity ($)'),\n",
              "  Text(7, 0, 'Commute'),\n",
              "  Text(8, 0, 'Moving'),\n",
              "  Text(9, 0, 'Airport/Travel')])"
            ]
          },
          "execution_count": 47,
          "metadata": {},
          "output_type": "execute_result"
        },
        {
          "data": {
            "image/png": "[encoded data removed]",
            "text/plain": [
              "<Figure size 1152x504 with 2 Axes>"
            ]
          },
          "metadata": {},
          "output_type": "display_data"
        }
      ]
    },
    {
      "cell_type": "markdown",
      "metadata": {
        "id": "L0Sslimv1vAF"
      },
      "source": [
        "checking how many are the round trips .i.e. start and stop points are same"
      ]
    },
    {
      "cell_type": "code",
      "metadata": {
        "id": "bbUihaZl1vAF",
        "outputId": "6d7af5e1-4f53-4b8f-b8bb-656753e27c78"
      },
      "source": [
        "plt.figure(figsize=(8,5))\n",
        "def round(x):\n",
        "    if x['START']==x['STOP']:\n",
        "        return 'yes'\n",
        "    else:\n",
        "        return 'no'\n",
        "df['Round_TRIP'] = df.apply(round,axis=1)\n",
        "sns.countplot(df['Round_TRIP'],order = df['Round_TRIP'].value_counts().index)\n",
        "plt.show()\n"
      ],
      "execution_count": null,
      "outputs": [
        {
          "data": {
            "image/png": "[encoded data removed]",
            "text/plain": [
              "<Figure size 576x360 with 1 Axes>"
            ]
          },
          "metadata": {},
          "output_type": "display_data"
        }
      ]
    },
    {
      "cell_type": "markdown",
      "metadata": {
        "id": "HbE1lumH1vAF"
      },
      "source": [
        "ENTERING MONTH NAME AND EVALUATING FREQUENCY OF TRIP IN EACH MONTH"
      ]
    },
    {
      "cell_type": "code",
      "metadata": {
        "id": "MJnlOimY1vAG"
      },
      "source": [
        "df['month']= pd.DatetimeIndex(df['START_DATE']).month"
      ],
      "execution_count": null,
      "outputs": []
    },
    {
      "cell_type": "code",
      "metadata": {
        "id": "r32xAmKa1vAG"
      },
      "source": [
        "dic = {1:'jan',2:'feb',3:'mar',4:'apr',5:'may',6:'jun',7:'jul',8:'aug',9:'sept',10:'oct',11:'nov',12:'dec'}\n",
        "df['month'] =df['month'].map(dic)"
      ],
      "execution_count": null,
      "outputs": []
    },
    {
      "cell_type": "code",
      "metadata": {
        "id": "8ybhSuP51vAG",
        "outputId": "bfd6d570-7a21-46d5-fe7c-6e44c9011827"
      },
      "source": [
        "df"
      ],
      "execution_count": null,
      "outputs": [
        {
          "data": {
            "text/html": [
              "<div>\n",
              "<style scoped>\n",
              "    .dataframe tbody tr th:only-of-type {\n",
              "        vertical-align: middle;\n",
              "    }\n",
              "\n",
              "    .dataframe tbody tr th {\n",
              "        vertical-align: top;\n",
              "    }\n",
              "\n",
              "    .dataframe thead th {\n",
              "        text-align: right;\n",
              "    }\n",
              "</style>\n",
              "<table border=\"1\" class=\"dataframe\">\n",
              "  <thead>\n",
              "    <tr style=\"text-align: right;\">\n",
              "      <th></th>\n",
              "      <th>START_DATE</th>\n",
              "      <th>END_DATE</th>\n",
              "      <th>CATEGORY</th>\n",
              "      <th>START</th>\n",
              "      <th>STOP</th>\n",
              "      <th>MILES</th>\n",
              "      <th>PURPOSE</th>\n",
              "      <th>minutes</th>\n",
              "      <th>Round_TRIP</th>\n",
              "      <th>month</th>\n",
              "    </tr>\n",
              "  </thead>\n",
              "  <tbody>\n",
              "    <tr>\n",
              "      <th>0</th>\n",
              "      <td>2016-01-01 21:11:00</td>\n",
              "      <td>2016-01-01 21:17:00</td>\n",
              "      <td>Business</td>\n",
              "      <td>Fort Pierce</td>\n",
              "      <td>Fort Pierce</td>\n",
              "      <td>5.1</td>\n",
              "      <td>Meal/Entertain</td>\n",
              "      <td>6.0</td>\n",
              "      <td>yes</td>\n",
              "      <td>jan</td>\n",
              "    </tr>\n",
              "    <tr>\n",
              "      <th>1</th>\n",
              "      <td>2016-01-02 01:25:00</td>\n",
              "      <td>2016-01-02 01:37:00</td>\n",
              "      <td>Business</td>\n",
              "      <td>Fort Pierce</td>\n",
              "      <td>Fort Pierce</td>\n",
              "      <td>5.0</td>\n",
              "      <td>Meal/Entertain</td>\n",
              "      <td>12.0</td>\n",
              "      <td>yes</td>\n",
              "      <td>jan</td>\n",
              "    </tr>\n",
              "    <tr>\n",
              "      <th>2</th>\n",
              "      <td>2016-01-02 20:25:00</td>\n",
              "      <td>2016-01-02 20:38:00</td>\n",
              "      <td>Business</td>\n",
              "      <td>Fort Pierce</td>\n",
              "      <td>Fort Pierce</td>\n",
              "      <td>4.8</td>\n",
              "      <td>Errand/Supplies</td>\n",
              "      <td>13.0</td>\n",
              "      <td>yes</td>\n",
              "      <td>jan</td>\n",
              "    </tr>\n",
              "    <tr>\n",
              "      <th>3</th>\n",
              "      <td>2016-01-05 17:31:00</td>\n",
              "      <td>2016-01-05 17:45:00</td>\n",
              "      <td>Business</td>\n",
              "      <td>Fort Pierce</td>\n",
              "      <td>Fort Pierce</td>\n",
              "      <td>4.7</td>\n",
              "      <td>Meeting</td>\n",
              "      <td>14.0</td>\n",
              "      <td>yes</td>\n",
              "      <td>jan</td>\n",
              "    </tr>\n",
              "    <tr>\n",
              "      <th>4</th>\n",
              "      <td>2016-01-06 14:42:00</td>\n",
              "      <td>2016-01-06 15:49:00</td>\n",
              "      <td>Business</td>\n",
              "      <td>Fort Pierce</td>\n",
              "      <td>West Palm Beach</td>\n",
              "      <td>63.7</td>\n",
              "      <td>Customer Visit</td>\n",
              "      <td>67.0</td>\n",
              "      <td>no</td>\n",
              "      <td>jan</td>\n",
              "    </tr>\n",
              "    <tr>\n",
              "      <th>...</th>\n",
              "      <td>...</td>\n",
              "      <td>...</td>\n",
              "      <td>...</td>\n",
              "      <td>...</td>\n",
              "      <td>...</td>\n",
              "      <td>...</td>\n",
              "      <td>...</td>\n",
              "      <td>...</td>\n",
              "      <td>...</td>\n",
              "      <td>...</td>\n",
              "    </tr>\n",
              "    <tr>\n",
              "      <th>1150</th>\n",
              "      <td>2016-12-31 01:07:00</td>\n",
              "      <td>2016-12-31 01:14:00</td>\n",
              "      <td>Business</td>\n",
              "      <td>Kar?chi</td>\n",
              "      <td>Kar?chi</td>\n",
              "      <td>0.7</td>\n",
              "      <td>Meeting</td>\n",
              "      <td>7.0</td>\n",
              "      <td>yes</td>\n",
              "      <td>dec</td>\n",
              "    </tr>\n",
              "    <tr>\n",
              "      <th>1151</th>\n",
              "      <td>2016-12-31 13:24:00</td>\n",
              "      <td>2016-12-31 13:42:00</td>\n",
              "      <td>Business</td>\n",
              "      <td>Kar?chi</td>\n",
              "      <td>Unknown Location</td>\n",
              "      <td>3.9</td>\n",
              "      <td>Temporary Site</td>\n",
              "      <td>18.0</td>\n",
              "      <td>no</td>\n",
              "      <td>dec</td>\n",
              "    </tr>\n",
              "    <tr>\n",
              "      <th>1152</th>\n",
              "      <td>2016-12-31 15:03:00</td>\n",
              "      <td>2016-12-31 15:38:00</td>\n",
              "      <td>Business</td>\n",
              "      <td>Unknown Location</td>\n",
              "      <td>Unknown Location</td>\n",
              "      <td>16.2</td>\n",
              "      <td>Meeting</td>\n",
              "      <td>35.0</td>\n",
              "      <td>yes</td>\n",
              "      <td>dec</td>\n",
              "    </tr>\n",
              "    <tr>\n",
              "      <th>1153</th>\n",
              "      <td>2016-12-31 21:32:00</td>\n",
              "      <td>2016-12-31 21:50:00</td>\n",
              "      <td>Business</td>\n",
              "      <td>Katunayake</td>\n",
              "      <td>Gampaha</td>\n",
              "      <td>6.4</td>\n",
              "      <td>Temporary Site</td>\n",
              "      <td>18.0</td>\n",
              "      <td>no</td>\n",
              "      <td>dec</td>\n",
              "    </tr>\n",
              "    <tr>\n",
              "      <th>1154</th>\n",
              "      <td>2016-12-31 22:08:00</td>\n",
              "      <td>2016-12-31 23:51:00</td>\n",
              "      <td>Business</td>\n",
              "      <td>Gampaha</td>\n",
              "      <td>Ilukwatta</td>\n",
              "      <td>48.2</td>\n",
              "      <td>Temporary Site</td>\n",
              "      <td>103.0</td>\n",
              "      <td>no</td>\n",
              "      <td>dec</td>\n",
              "    </tr>\n",
              "  </tbody>\n",
              "</table>\n",
              "<p>1155 rows × 10 columns</p>\n",
              "</div>"
            ],
            "text/plain": [
              "              START_DATE            END_DATE  CATEGORY             START  \\\n",
              "0    2016-01-01 21:11:00 2016-01-01 21:17:00  Business       Fort Pierce   \n",
              "1    2016-01-02 01:25:00 2016-01-02 01:37:00  Business       Fort Pierce   \n",
              "2    2016-01-02 20:25:00 2016-01-02 20:38:00  Business       Fort Pierce   \n",
              "3    2016-01-05 17:31:00 2016-01-05 17:45:00  Business       Fort Pierce   \n",
              "4    2016-01-06 14:42:00 2016-01-06 15:49:00  Business       Fort Pierce   \n",
              "...                  ...                 ...       ...               ...   \n",
              "1150 2016-12-31 01:07:00 2016-12-31 01:14:00  Business           Kar?chi   \n",
              "1151 2016-12-31 13:24:00 2016-12-31 13:42:00  Business           Kar?chi   \n",
              "1152 2016-12-31 15:03:00 2016-12-31 15:38:00  Business  Unknown Location   \n",
              "1153 2016-12-31 21:32:00 2016-12-31 21:50:00  Business        Katunayake   \n",
              "1154 2016-12-31 22:08:00 2016-12-31 23:51:00  Business           Gampaha   \n",
              "\n",
              "                  STOP  MILES          PURPOSE  minutes Round_TRIP month  \n",
              "0          Fort Pierce    5.1   Meal/Entertain      6.0        yes   jan  \n",
              "1          Fort Pierce    5.0   Meal/Entertain     12.0        yes   jan  \n",
              "2          Fort Pierce    4.8  Errand/Supplies     13.0        yes   jan  \n",
              "3          Fort Pierce    4.7          Meeting     14.0        yes   jan  \n",
              "4      West Palm Beach   63.7   Customer Visit     67.0         no   jan  \n",
              "...                ...    ...              ...      ...        ...   ...  \n",
              "1150           Kar?chi    0.7          Meeting      7.0        yes   dec  \n",
              "1151  Unknown Location    3.9   Temporary Site     18.0         no   dec  \n",
              "1152  Unknown Location   16.2          Meeting     35.0        yes   dec  \n",
              "1153           Gampaha    6.4   Temporary Site     18.0         no   dec  \n",
              "1154         Ilukwatta   48.2   Temporary Site    103.0         no   dec  \n",
              "\n",
              "[1155 rows x 10 columns]"
            ]
          },
          "execution_count": 54,
          "metadata": {},
          "output_type": "execute_result"
        }
      ]
    },
    {
      "cell_type": "code",
      "metadata": {
        "id": "5_iNZtYe1vAG",
        "outputId": "5319d983-4a75-4d01-8709-dc2ca754cf2c"
      },
      "source": [
        "plt.figure(figsize=(12,7))\n",
        "sns.countplot(df['month'],order = df['month'].value_counts().index,palette='deep')\n",
        "plt.show()\n"
      ],
      "execution_count": null,
      "outputs": [
        {
          "data": {
            "image/png": "[encoded data removed]",
            "text/plain": [
              "<Figure size 864x504 with 1 Axes>"
            ]
          },
          "metadata": {},
          "output_type": "display_data"
        }
      ]
    },
    {
      "cell_type": "code",
      "metadata": {
        "id": "T9Ucaiua1vAG",
        "outputId": "ac586455-5722-4139-af93-57ce29db805e"
      },
      "source": [
        "plt.figure(figsize=(12,7))\n",
        "sns.countplot(df['Round_TRIP'],hue=df['month'])\n",
        "plt.legend()"
      ],
      "execution_count": null,
      "outputs": [
        {
          "data": {
            "text/plain": [
              "<matplotlib.legend.Legend at 0x1ac351acfd0>"
            ]
          },
          "execution_count": 58,
          "metadata": {},
          "output_type": "execute_result"
        },
        {
          "data": {
            "image/png": "[encoded data removed]",
            "text/plain": [
              "<Figure size 864x504 with 1 Axes>"
            ]
          },
          "metadata": {},
          "output_type": "display_data"
        }
      ]
    },
    {
      "cell_type": "code",
      "metadata": {
        "id": "ETmsaGDd1vAH",
        "outputId": "ff23359a-af15-4f48-ed04-c96ab81c062d"
      },
      "source": [
        "plt.figure(figsize=(16,7))\n",
        "plt.subplot(1,2,1)\n",
        "sns.lineplot(data=df,x=df.minutes,y=df.MILES)\n",
        "plt.subplot(1,2,2)\n",
        "sns.scatterplot(data=df,x=df.minutes,y=df.MILES)"
      ],
      "execution_count": null,
      "outputs": [
        {
          "data": {
            "text/plain": [
              "<AxesSubplot:xlabel='minutes', ylabel='MILES'>"
            ]
          },
          "execution_count": 59,
          "metadata": {},
          "output_type": "execute_result"
        },
        {
          "data": {
            "image/png": "[encoded data removed]",
            "text/plain": [
              "<Figure size 1152x504 with 2 Axes>"
            ]
          },
          "metadata": {},
          "output_type": "display_data"
        }
      ]
    },
    {
      "cell_type": "markdown",
      "metadata": {
        "id": "Tt5rVxjx1vAH"
      },
      "source": [
        "Distribution of Cab rides based on category\n"
      ]
    },
    {
      "cell_type": "code",
      "metadata": {
        "id": "RKmMWq-L1vAH",
        "outputId": "7918d4f1-6311-45ce-b323-5e32842e2647"
      },
      "source": [
        "plt.figure(figsize=(9,5))\n",
        "sns.countplot(data=df,x='PURPOSE',hue='CATEGORY',dodge=False)\n",
        "plt.xticks(rotation=45)"
      ],
      "execution_count": null,
      "outputs": [
        {
          "data": {
            "text/plain": [
              "(array([0, 1, 2, 3, 4, 5, 6, 7, 8, 9]),\n",
              " [Text(0, 0, 'Meal/Entertain'),\n",
              "  Text(1, 0, 'Errand/Supplies'),\n",
              "  Text(2, 0, 'Meeting'),\n",
              "  Text(3, 0, 'Customer Visit'),\n",
              "  Text(4, 0, 'Temporary Site'),\n",
              "  Text(5, 0, 'Between Offices'),\n",
              "  Text(6, 0, 'Charity ($)'),\n",
              "  Text(7, 0, 'Commute'),\n",
              "  Text(8, 0, 'Moving'),\n",
              "  Text(9, 0, 'Airport/Travel')])"
            ]
          },
          "execution_count": 64,
          "metadata": {},
          "output_type": "execute_result"
        },
        {
          "data": {
            "image/png": "[encoded data removed]",
            "text/plain": [
              "<Figure size 648x360 with 1 Axes>"
            ]
          },
          "metadata": {},
          "output_type": "display_data"
        }
      ]
    },
    {
      "cell_type": "markdown",
      "metadata": {
        "id": "m3sN1_ty1vAH"
      },
      "source": [
        "Where do customers most frequently take cabs\n",
        "   Frequency of cab rides start points"
      ]
    },
    {
      "cell_type": "code",
      "metadata": {
        "id": "h_o3kX6Y1vAH",
        "outputId": "493fd7e9-cd88-4d71-97d9-d4f40d486707"
      },
      "source": [
        "plt.figure(figsize=(15,4))\n",
        "pd.Series(df['START']).value_counts()[:25].plot(kind='bar')\n",
        "plt.title('Car rides start location frequency')\n",
        "plt.xticks(rotation=45)"
      ],
      "execution_count": null,
      "outputs": [
        {
          "data": {
            "text/plain": [
              "(array([ 0,  1,  2,  3,  4,  5,  6,  7,  8,  9, 10, 11, 12, 13, 14, 15, 16,\n",
              "        17, 18, 19, 20, 21, 22, 23, 24]),\n",
              " [Text(0, 0, 'Cary'),\n",
              "  Text(1, 0, 'Unknown Location'),\n",
              "  Text(2, 0, 'Morrisville'),\n",
              "  Text(3, 0, 'Whitebridge'),\n",
              "  Text(4, 0, 'Islamabad'),\n",
              "  Text(5, 0, 'Durham'),\n",
              "  Text(6, 0, 'Lahore'),\n",
              "  Text(7, 0, 'Raleigh'),\n",
              "  Text(8, 0, 'Kar?chi'),\n",
              "  Text(9, 0, 'Apex'),\n",
              "  Text(10, 0, 'Westpark Place'),\n",
              "  Text(11, 0, 'Berkeley'),\n",
              "  Text(12, 0, 'Midtown'),\n",
              "  Text(13, 0, 'R?walpindi'),\n",
              "  Text(14, 0, 'Kissimmee'),\n",
              "  Text(15, 0, 'Kenner'),\n",
              "  Text(16, 0, 'Emeryville'),\n",
              "  Text(17, 0, 'New Orleans'),\n",
              "  Text(18, 0, 'Downtown'),\n",
              "  Text(19, 0, 'Edgehill Farms'),\n",
              "  Text(20, 0, 'San Francisco'),\n",
              "  Text(21, 0, 'Orlando'),\n",
              "  Text(22, 0, 'Banner Elk'),\n",
              "  Text(23, 0, 'Central'),\n",
              "  Text(24, 0, 'Colombo')])"
            ]
          },
          "execution_count": 65,
          "metadata": {},
          "output_type": "execute_result"
        },
        {
          "data": {
            "image/png": "[encoded data removed]",
            "text/plain": [
              "<Figure size 1080x288 with 1 Axes>"
            ]
          },
          "metadata": {},
          "output_type": "display_data"
        }
      ]
    },
    {
      "cell_type": "markdown",
      "metadata": {
        "id": "nsHllfZV1vAH"
      },
      "source": [
        "Frequency of Cab Rides Stop location"
      ]
    },
    {
      "cell_type": "code",
      "metadata": {
        "id": "Q2r952FA1vAI",
        "outputId": "bd773b76-61d5-4e0e-a609-ad4e369c8fc5"
      },
      "source": [
        "plt.figure(figsize=(15,4))\n",
        "pd.Series(df['STOP']).value_counts()[:25].plot(kind='bar')\n",
        "plt.title('cab rides stop location frequency')\n",
        "plt.xticks(rotation=45)"
      ],
      "execution_count": null,
      "outputs": [
        {
          "data": {
            "text/plain": [
              "(array([ 0,  1,  2,  3,  4,  5,  6,  7,  8,  9, 10, 11, 12, 13, 14, 15, 16,\n",
              "        17, 18, 19, 20, 21, 22, 23, 24]),\n",
              " [Text(0, 0, 'Cary'),\n",
              "  Text(1, 0, 'Unknown Location'),\n",
              "  Text(2, 0, 'Morrisville'),\n",
              "  Text(3, 0, 'Whitebridge'),\n",
              "  Text(4, 0, 'Islamabad'),\n",
              "  Text(5, 0, 'Lahore'),\n",
              "  Text(6, 0, 'Durham'),\n",
              "  Text(7, 0, 'Raleigh'),\n",
              "  Text(8, 0, 'Kar?chi'),\n",
              "  Text(9, 0, 'Apex'),\n",
              "  Text(10, 0, 'Berkeley'),\n",
              "  Text(11, 0, 'Westpark Place'),\n",
              "  Text(12, 0, 'R?walpindi'),\n",
              "  Text(13, 0, 'Kissimmee'),\n",
              "  Text(14, 0, 'Midtown'),\n",
              "  Text(15, 0, 'New Orleans'),\n",
              "  Text(16, 0, 'Edgehill Farms'),\n",
              "  Text(17, 0, 'Kenner'),\n",
              "  Text(18, 0, 'Central'),\n",
              "  Text(19, 0, 'Emeryville'),\n",
              "  Text(20, 0, 'Oakland'),\n",
              "  Text(21, 0, 'San Francisco'),\n",
              "  Text(22, 0, 'Colombo'),\n",
              "  Text(23, 0, 'Banner Elk'),\n",
              "  Text(24, 0, 'Orlando')])"
            ]
          },
          "execution_count": 66,
          "metadata": {},
          "output_type": "execute_result"
        },
        {
          "data": {
            "image/png": "[encoded data removed]",
            "text/plain": [
              "<Figure size 1080x288 with 1 Axes>"
            ]
          },
          "metadata": {},
          "output_type": "display_data"
        }
      ]
    },
    {
      "cell_type": "markdown",
      "metadata": {
        "id": "uOZqcymd1vAI"
      },
      "source": [
        "CONCLUSIONS\n",
        "1. Business cabs were not only used more in volumne but also have travelled more distance.\n",
        "2. Round trips were more in decemnber\n",
        "3. december can prove to be the best month for earning profit by raising fare as demand is more\n",
        "4. seasonal pattern is there\n",
        "5. Cab traffic was high in just 5 cities comparitevely\n",
        "6. most of the cab rides are within a distance of 35 miles taking about 30 minutes\n",
        "7. For Airport cabs are taking more time than usual."
      ]
    },
    {
      "cell_type": "code",
      "metadata": {
        "id": "ZzzFNA7A1vAI"
      },
      "source": [
        ""
      ],
      "execution_count": null,
      "outputs": []
    }
  ]
}